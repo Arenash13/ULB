{
 "cells": [
  {
   "cell_type": "code",
   "execution_count": null,
   "id": "51c999d4-fea6-4eba-bb7a-80065ae4489e",
   "metadata": {},
   "outputs": [],
   "source": [
    "import numpy\n",
    "import matplotlib.pyplot as plt\n",
    "from numpy.core.fromnumeric import reshape\n",
    "from tsne import tsne\n",
    "from sklearn.cluster import KMeans\n",
    "from utils import imscatter, load_data\n",
    "\n",
    "data = load_data()\n",
    "reshape_param = 1\n",
    "for i in range(1, len(data.shape)):\n",
    "    reshape_param *= data.shape[i]\n",
    "mod_data = data.reshape((data.shape[0], reshape_param))\n",
    "for i in range (5, 51): \n",
    "    print('T-SNE for perplexity = ' + str(i))\n",
    "    sol = tsne(mod_data, perplexity=i)\n",
    "    x_coords = []\n",
    "    y_coords = []\n",
    "    for coords in sol:\n",
    "        x_coords.append(coords[0])\n",
    "        y_coords.append(coords[1])\n",
    "    imscatter(x_coords, y_coords, data)\n",
    "    plt.show() "
   ]
  },
  {
   "cell_type": "code",
   "execution_count": 4,
   "id": "873b8898",
   "metadata": {},
   "outputs": [
    {
     "name": "stdout",
     "output_type": "stream",
     "text": [
      "KMeans()\n"
     ]
    }
   ],
   "source": [
    "from sklearn.cluster import KMeans\n",
    "from utils import get_colors\n",
    "import numpy as np\n",
    "\n",
    "data = load_data()\n",
    "reshape_param = 1\n",
    "for i in range(1, len(data.shape)):\n",
    "    reshape_param *= data.shape[i]\n",
    "mod_data = data.reshape((data.shape[0], reshape_param))\n",
    "mod_data = tsne(mod_data, perplexity=15)\n",
    "\n",
    "inertia_list = []\n",
    "for i in range(5, 50):\n",
    "    kmeans = KMeans(n_clusters=i)\n",
    "    label = kmeans.fit_predict(mod_data)\n",
    "    centroids = kmeans.cluster_centers_\n",
    "    inertia_list.append(kmeans.inertia_)\n",
    "    colors = get_colors(np.unique(label))\n",
    "    plt.title('Number of clusters = ' + str(i))\n",
    "    for i in np.unique(label):\n",
    "        plt.scatter(mod_data[label == i, 0], mod_data[label == i, 1], color=colors[i])\n",
    "    plt.scatter(centroids[:,0] , centroids[:,1] , s = 80, color = 'black')\n",
    "    plt.show()\n",
    "\n",
    "inertia_list = np.array(inertia_list)\n",
    "plt.plot(list(range(5,50)), inertia_list)\n",
    "plt.xlabel('Number of clusters')\n",
    "plt.ylabel('SSE')\n",
    "plt.show()\n"
   ]
  },
  {
   "cell_type": "code",
   "execution_count": null,
   "id": "8b30b210-3f36-491b-abb4-f99e7681ba6a",
   "metadata": {},
   "outputs": [],
   "source": []
  },
  {
   "cell_type": "code",
   "execution_count": null,
   "id": "c306e036-ff84-4b50-9868-3bab6bf2bb93",
   "metadata": {},
   "outputs": [],
   "source": []
  }
 ],
 "metadata": {
  "interpreter": {
   "hash": "4d81ea1949a27e10a2703fa902c904e1c05281b6ccdb849e2b0f86069e8616b0"
  },
  "kernelspec": {
   "display_name": "Python 3 (ipykernel)",
   "language": "python",
   "name": "python3"
  },
  "language_info": {
   "codemirror_mode": {
    "name": "ipython",
    "version": 3
   },
   "file_extension": ".py",
   "mimetype": "text/x-python",
   "name": "python",
   "nbconvert_exporter": "python",
   "pygments_lexer": "ipython3",
   "version": "3.9.9"
  }
 },
 "nbformat": 4,
 "nbformat_minor": 5
}
